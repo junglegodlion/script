{
 "cells": [
  {
   "cell_type": "markdown",
   "metadata": {},
   "source": [
    "# 字符集检测"
   ]
  },
  {
   "cell_type": "markdown",
   "metadata": {},
   "source": [
    "Chardet：通用字符编码检测器，检测字符集范围：\n",
    "\n",
    "ASCII，UTF-8，UTF-16（2种变体），UTF-32（4种变体）\n",
    "\n",
    "Big5，GB2312，EUC-TW，HZ-GB-2312，ISO-2022-CN（繁体中文和简体中文）\n",
    "\n",
    "EUC-JP，SHIFT_JIS，CP932，ISO-2022-JP（日文）\n",
    "\n",
    "EUC-KR，ISO-2022-KR（韩文）\n",
    "\n",
    "KOI8-R，MacCyrillic，IBM855，IBM866，ISO-8859-5，windows-1251（西里尔文）\n",
    "\n",
    "ISO-8859-5，windows-1251（保加利亚语）\n",
    "\n",
    "ISO-8859-1，windows-1252（西欧语言）\n",
    "\n",
    "ISO-8859-7，windows-1253（希腊语）\n",
    "\n",
    "ISO-8859-8，windows-1255（视觉和逻辑希伯来语）\n",
    "\n",
    "TIS-620（泰国语）"
   ]
  },
  {
   "cell_type": "markdown",
   "metadata": {},
   "source": [
    "## chardet在使用前，我们需要安装它：pip install chardet即可"
   ]
  },
  {
   "cell_type": "markdown",
   "metadata": {},
   "source": [
    "## 检测网址"
   ]
  },
  {
   "cell_type": "code",
   "execution_count": 3,
   "metadata": {},
   "outputs": [
    {
     "name": "stdout",
     "output_type": "stream",
     "text": [
      "https://www.jb51.net {'encoding': 'GB2312', 'confidence': 0.99, 'language': 'Chinese'}\n",
      "https://www.baidu.com/ {'encoding': 'utf-8', 'confidence': 0.99, 'language': ''}\n"
     ]
    }
   ],
   "source": [
    "import requests\n",
    "import chardet\n",
    "# 检测网址\n",
    "urls = ['https://www.jb51.net', 'https://www.baidu.com/']\n",
    "for url in urls:\n",
    "    r = requests.get(url)\n",
    "    print(url, chardet.detect(r.content))"
   ]
  },
  {
   "cell_type": "markdown",
   "metadata": {},
   "source": [
    "## 检测文本"
   ]
  },
  {
   "cell_type": "code",
   "execution_count": 5,
   "metadata": {},
   "outputs": [
    {
     "name": "stdout",
     "output_type": "stream",
     "text": [
      "{'encoding': 'utf-8', 'confidence': 0.99, 'language': ''}\n"
     ]
    }
   ],
   "source": [
    "import chardet\n",
    "# 检测文本\n",
    "with open('123.md','rb') as f:\n",
    "   print(chardet.detect(f.read()))\n",
    "# 对于文本的编码的未知性，我们需要使用二进制的方式打开文本，之后再获取字符集。"
   ]
  },
  {
   "cell_type": "markdown",
   "metadata": {},
   "source": [
    "## 逐步检测编码"
   ]
  },
  {
   "cell_type": "markdown",
   "metadata": {},
   "source": [
    "对于简短的网页或者文本内容，我们可以按照上述的方式进行操作，但如果我的文本是以G为单位计算的,如何能快速的获取文本的字符集内容呢？我们可以使用chardet模块的逐步检测编码方式，"
   ]
  },
  {
   "cell_type": "code",
   "execution_count": 7,
   "metadata": {},
   "outputs": [
    {
     "name": "stdout",
     "output_type": "stream",
     "text": [
      "{'encoding': 'utf-8', 'confidence': 0.99, 'language': ''}\n",
      "147.40460163699998\n"
     ]
    }
   ],
   "source": [
    "# 原始方法\n",
    "import chardet\n",
    "import time\n",
    "\n",
    "t0 = time.process_time()\n",
    "with open(\"大主宰.txt\",'rb') as f:\n",
    "    print(chardet.detect(f.read()))\n",
    "t1 = time.process_time()\n",
    "print(t1-t0)"
   ]
  },
  {
   "cell_type": "code",
   "execution_count": 9,
   "metadata": {},
   "outputs": [
    {
     "name": "stdout",
     "output_type": "stream",
     "text": [
      "{'encoding': 'utf-8', 'confidence': 0.99, 'language': ''}\n",
      "64.959393114\n"
     ]
    }
   ],
   "source": [
    "# 逐步检索方法：\n",
    "import time\n",
    "from chardet.universaldetector import UniversalDetector\n",
    "\n",
    "detector = UniversalDetector()\n",
    "\n",
    "t0 = time.process_time()\n",
    "for line in open(\"大主宰.txt\", 'rb'):\n",
    "    detector.feed(line)\n",
    "    if detector.done:\n",
    "        break\n",
    "detector.close()\n",
    "print(detector.result)\n",
    "t1 = time.process_time()\n",
    "print(t1 - t0)"
   ]
  },
  {
   "cell_type": "markdown",
   "metadata": {},
   "source": [
    "如果要检测多个文本的编码（例如单独的文件），则可以重复使用单个UniversalDetector对象。只需detector.reset()在每个文件的开头调用 ，根据需要调用detector.feed 多次，然后调用detector.close()并检查detector.result字典中的文件结果。"
   ]
  },
  {
   "cell_type": "markdown",
   "metadata": {},
   "source": [
    "之前版本大家在进行时间计时是，经常使用到的就是time.time()和time.clock()两个模块。两者的差异在于time.clock()计算的是cpu时间差，而time.time()计算的是电脑的系统时间差。"
   ]
  },
  {
   "cell_type": "markdown",
   "metadata": {},
   "source": [
    "time.clock在python3.3以后不被推荐使用，该方法依赖操作系统，建议使用per_counter(返回系统运行时间)或process_time(返回进程运行时间)代替。"
   ]
  }
 ],
 "metadata": {
  "kernelspec": {
   "display_name": "Python 3",
   "language": "python",
   "name": "python3"
  },
  "language_info": {
   "codemirror_mode": {
    "name": "ipython",
    "version": 3
   },
   "file_extension": ".py",
   "mimetype": "text/x-python",
   "name": "python",
   "nbconvert_exporter": "python",
   "pygments_lexer": "ipython3",
   "version": "3.7.3"
  }
 },
 "nbformat": 4,
 "nbformat_minor": 4
}
